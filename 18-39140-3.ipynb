{
  "nbformat": 4,
  "nbformat_minor": 0,
  "metadata": {
    "colab": {
      "name": "Assignment1Update.ipynb",
      "provenance": [],
      "collapsed_sections": []
    },
    "kernelspec": {
      "name": "python3",
      "display_name": "Python 3"
    },
    "language_info": {
      "name": "python"
    }
  },
  "cells": [
    {
      "cell_type": "code",
      "metadata": {
        "id": "lNzXLM9rAt6o"
      },
      "source": [
        "from google.colab import drive"
      ],
      "execution_count": 1,
      "outputs": []
    },
    {
      "cell_type": "code",
      "metadata": {
        "colab": {
          "base_uri": "https://localhost:8080/"
        },
        "id": "LbWQ5E_GA0Qx",
        "outputId": "b3324fb8-34a4-482d-d56b-5266bef7fa7e"
      },
      "source": [
        "drive.mount('/content/drive')"
      ],
      "execution_count": 4,
      "outputs": [
        {
          "output_type": "stream",
          "name": "stdout",
          "text": [
            "Mounted at /content/drive\n"
          ]
        }
      ]
    },
    {
      "cell_type": "code",
      "metadata": {
        "colab": {
          "base_uri": "https://localhost:8080/",
          "height": 203
        },
        "id": "6VjYmORuA3ph",
        "outputId": "25733acd-9059-4c8e-fa3a-31fc8d0e11d3"
      },
      "source": [
        "import pandas as pd\n",
        "\n",
        "data = pd.read_csv('/content/drive/MyDrive/Data/Data.csv')\n",
        "\n",
        "data.head()"
      ],
      "execution_count": 5,
      "outputs": [
        {
          "output_type": "execute_result",
          "data": {
            "text/html": [
              "<div>\n",
              "<style scoped>\n",
              "    .dataframe tbody tr th:only-of-type {\n",
              "        vertical-align: middle;\n",
              "    }\n",
              "\n",
              "    .dataframe tbody tr th {\n",
              "        vertical-align: top;\n",
              "    }\n",
              "\n",
              "    .dataframe thead th {\n",
              "        text-align: right;\n",
              "    }\n",
              "</style>\n",
              "<table border=\"1\" class=\"dataframe\">\n",
              "  <thead>\n",
              "    <tr style=\"text-align: right;\">\n",
              "      <th></th>\n",
              "      <th>X</th>\n",
              "      <th>Y</th>\n",
              "      <th>Z</th>\n",
              "    </tr>\n",
              "  </thead>\n",
              "  <tbody>\n",
              "    <tr>\n",
              "      <th>0</th>\n",
              "      <td>55</td>\n",
              "      <td>63</td>\n",
              "      <td>0</td>\n",
              "    </tr>\n",
              "    <tr>\n",
              "      <th>1</th>\n",
              "      <td>31</td>\n",
              "      <td>28</td>\n",
              "      <td>1</td>\n",
              "    </tr>\n",
              "    <tr>\n",
              "      <th>2</th>\n",
              "      <td>26</td>\n",
              "      <td>73</td>\n",
              "      <td>0</td>\n",
              "    </tr>\n",
              "    <tr>\n",
              "      <th>3</th>\n",
              "      <td>70</td>\n",
              "      <td>54</td>\n",
              "      <td>1</td>\n",
              "    </tr>\n",
              "    <tr>\n",
              "      <th>4</th>\n",
              "      <td>85</td>\n",
              "      <td>96</td>\n",
              "      <td>0</td>\n",
              "    </tr>\n",
              "  </tbody>\n",
              "</table>\n",
              "</div>"
            ],
            "text/plain": [
              "    X   Y  Z\n",
              "0  55  63  0\n",
              "1  31  28  1\n",
              "2  26  73  0\n",
              "3  70  54  1\n",
              "4  85  96  0"
            ]
          },
          "metadata": {},
          "execution_count": 5
        }
      ]
    },
    {
      "cell_type": "code",
      "metadata": {
        "colab": {
          "base_uri": "https://localhost:8080/",
          "height": 265
        },
        "id": "8S2C6Qz9BJ9P",
        "outputId": "4247bbd8-b8a3-4e22-e2b8-faf409d5b125"
      },
      "source": [
        "import matplotlib.pyplot as plt\n",
        "X1 = data['X'].values.tolist()\n",
        "X2 = data['Y'].values.tolist()\n",
        "Y = data['Z'].values.tolist()\n",
        "\n",
        "for i in range(len(Y)): \n",
        "  if Y[i] == 0: \n",
        "    plt.plot(X1[i], X2[i], 'r+')\n",
        "  else: \n",
        "    plt.plot(X1[i], X2[i], 'g+')"
      ],
      "execution_count": 6,
      "outputs": [
        {
          "output_type": "display_data",
          "data": {
            "image/png": "[encoded data removed]",
            "text/plain": [
              "<Figure size 432x288 with 1 Axes>"
            ]
          },
          "metadata": {
            "needs_background": "light"
          }
        }
      ]
    },
    {
      "cell_type": "code",
      "metadata": {
        "id": "HJStGLILCn0Q"
      },
      "source": [
        "import random\n",
        "import math\n",
        "from IPython import display"
      ],
      "execution_count": 8,
      "outputs": []
    },
    {
      "cell_type": "code",
      "metadata": {
        "colab": {
          "base_uri": "https://localhost:8080/",
          "height": 353
        },
        "id": "RDRAKwC1CrOR",
        "outputId": "a172e9f9-4109-4e84-f771-711e60b94286"
      },
      "source": [
        "W = [random.random(), random.random()]\n",
        "B = random.random()\n",
        "lr = 0.001\n",
        "theta = 0.5\n",
        "epoch = 0\n",
        "count = 0\n",
        "\n",
        "while count < len(Y): \n",
        "  total_error = 0\n",
        "  for i in range(len(Y)): \n",
        "    weighted_sum = W[0]*X1[i] + W[1]*X2[i] + B\n",
        "    prediction = 0\n",
        "    if weighted_sum > theta:  #activation function\n",
        "      prediction = 1\n",
        "    error = Y[i] - prediction\n",
        "    if error != 0:  \n",
        "      count = 0\n",
        "      total_error += math.sqrt(error**2)\n",
        "      W[0] += error*X1[i]*lr\n",
        "      W[1] += error*X2[i]*lr\n",
        "      B += error * lr\n",
        "    else: \n",
        "      count += 1\n",
        "\n",
        "\n",
        "  plt.figure()\n",
        "  grf = plt.figure(figsize=(20,5))\n",
        "  ax = grf.add_subplot(1,2,1)\n",
        "  display.clear_output(wait=True)\n",
        "\n",
        "  for i in range(len(Y)): \n",
        "    if Y[i] == 0: \n",
        "      plt.plot(X1[i], X2[i], 'r+')\n",
        "      \n",
        "    else: \n",
        "      plt.plot(X1[i], X2[i], 'g+')\n",
        "     \n",
        "\n",
        "    plt.xlim([-20, 120])\n",
        "    plt.ylim([-20, 120])\n",
        "   \n",
        "\n",
        "    xintercept = (theta - B) / W[0]\n",
        "    yintercept = (theta - B) / W[1]\n",
        "    slope = -yintercept / xintercept\n",
        "    x = plt.xlim()\n",
        "    y = []\n",
        "\n",
        "    \n",
        "    for i in x: \n",
        "      y.append(slope*i + yintercept) #y = mx + c\n",
        "    \n",
        "    plt.plot(x,y, 'b-')\n",
        "    ax.fill_between(x, y, plt.xlim()[0], color='r', alpha= 0.5)\n",
        "    ax.fill_between(x, y, plt.ylim()[1], color='b', alpha = 0.5)\n",
        "    \n",
        "    plt.title(f\"Epoch = {epoch} Loss = {total_error}\")\n",
        "\n",
        "\n",
        "  # plt.rcParams['axes.facecolor'] = 'orange'\n",
        "  plt.show()\n",
        "\n",
        "\n",
        "  epoch += 1\n"
      ],
      "execution_count": 11,
      "outputs": [
        {
          "output_type": "display_data",
          "data": {
            "text/plain": [
              "<Figure size 432x288 with 0 Axes>"
            ]
          },
          "metadata": {}
        },
        {
          "output_type": "display_data",
          "data": {
            "image/png": "[encoded data removed]",
            "text/plain": [
              "<Figure size 1440x360 with 1 Axes>"
            ]
          },
          "metadata": {
            "needs_background": "light"
          }
        }
      ]
    }
  ]
}